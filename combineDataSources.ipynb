{
 "cells": [
  {
   "cell_type": "code",
   "execution_count": 81,
   "metadata": {
    "collapsed": true
   },
   "outputs": [],
   "source": [
    "import re\n",
    "import json\n",
    "import pandas as pd\n",
    "from collections import defaultdict\n",
    "\n",
    "import json\n",
    "from json import dumps"
   ]
  },
  {
   "cell_type": "code",
   "execution_count": 2,
   "metadata": {
    "collapsed": true
   },
   "outputs": [],
   "source": [
    "with open('dienstleistungen.json') as data_file:    \n",
    "    data = json.load(data_file)"
   ]
  },
  {
   "cell_type": "code",
   "execution_count": 3,
   "metadata": {
    "collapsed": true
   },
   "outputs": [],
   "source": [
    "dienstleistungen = pd.DataFrame(data['data'])"
   ]
  },
  {
   "cell_type": "code",
   "execution_count": 4,
   "metadata": {
    "collapsed": true
   },
   "outputs": [],
   "source": [
    "leika = pd.DataFrame.from_csv('data.tsv', sep='\\t').reset_index()"
   ]
  },
  {
   "cell_type": "code",
   "execution_count": 5,
   "metadata": {
    "collapsed": false
   },
   "outputs": [],
   "source": [
    "leika[['D115 ID']] = leika[['D115 ID']].astype(str)\n",
    "dienstleistungen[['id']] = dienstleistungen[['id']].astype(str)"
   ]
  },
  {
   "cell_type": "code",
   "execution_count": 6,
   "metadata": {
    "collapsed": false
   },
   "outputs": [],
   "source": [
    "result = pd.merge(dienstleistungen, leika, left_on='id', right_on='D115 ID')"
   ]
  },
  {
   "cell_type": "code",
   "execution_count": 7,
   "metadata": {
    "collapsed": true
   },
   "outputs": [],
   "source": [
    "result.drop('D115 ID', axis=1, inplace=True)\n",
    "result.drop('Leika Nummer', axis=1, inplace=True)"
   ]
  },
  {
   "cell_type": "code",
   "execution_count": 8,
   "metadata": {
    "collapsed": false
   },
   "outputs": [
    {
     "data": {
      "text/html": [
       "<div>\n",
       "<table border=\"1\" class=\"dataframe\">\n",
       "  <thead>\n",
       "    <tr style=\"text-align: right;\">\n",
       "      <th></th>\n",
       "      <th>appointment</th>\n",
       "      <th>authorities</th>\n",
       "      <th>description</th>\n",
       "      <th>fees</th>\n",
       "      <th>forms</th>\n",
       "      <th>id</th>\n",
       "      <th>legal</th>\n",
       "      <th>leika</th>\n",
       "      <th>links</th>\n",
       "      <th>locations</th>\n",
       "      <th>...</th>\n",
       "      <th>relation</th>\n",
       "      <th>representation</th>\n",
       "      <th>requirements</th>\n",
       "      <th>residence</th>\n",
       "      <th>responsibility</th>\n",
       "      <th>responsibility_all</th>\n",
       "      <th>Leika Gruppe</th>\n",
       "      <th>Leika Kennung</th>\n",
       "      <th>Leika Verrichtung</th>\n",
       "      <th>Leika Synonyme</th>\n",
       "    </tr>\n",
       "  </thead>\n",
       "  <tbody>\n",
       "    <tr>\n",
       "      <th>0</th>\n",
       "      <td>{'link': 'https://service.berlin.de/terminvere...</td>\n",
       "      <td>[{'id': '12667', 'name': 'Bezirksamt Charlotte...</td>\n",
       "      <td>&lt;ul class=\"list\"&gt;&lt;li&gt;Sie geben eine Berliner W...</td>\n",
       "      <td>gebührenfrei; dies gilt auch für die Abmeldebe...</td>\n",
       "      <td>[{'link': 'http://www.berlin.de/formularserver...</td>\n",
       "      <td>120335</td>\n",
       "      <td>[{'link': 'http://www.gesetze-im-internet.de/b...</td>\n",
       "      <td>99115005070000</td>\n",
       "      <td>[{'link': 'https://www.bmi.bund.de/DE/Themen/M...</td>\n",
       "      <td>[{'appointment': {'link': 'https://service.ber...</td>\n",
       "      <td>...</td>\n",
       "      <td>{'root_topic': '324835'}</td>\n",
       "      <td>0</td>\n",
       "      <td>[{'link': '', 'description': 'Die Abmeldung ka...</td>\n",
       "      <td>0</td>\n",
       "      <td>Diese Dienstleistung erhalten Sie in allen Ber...</td>\n",
       "      <td>True</td>\n",
       "      <td>Wohnsitz</td>\n",
       "      <td>Wohnsitz</td>\n",
       "      <td>Abmeldung</td>\n",
       "      <td>Abmeldung | Wohnungsabmeldung | Wegzug | abmel...</td>\n",
       "    </tr>\n",
       "    <tr>\n",
       "      <th>1</th>\n",
       "      <td>{'link': ''}</td>\n",
       "      <td>[{'id': '12667', 'name': 'Bezirksamt Charlotte...</td>\n",
       "      <td>Wohngeld kann Ihnen angemessenes und familien-...</td>\n",
       "      <td>keine</td>\n",
       "      <td>[{'link': 'https://senstadtfms.stadt-berlin.de...</td>\n",
       "      <td>120656</td>\n",
       "      <td>[{'link': 'http://www.gesetze-im-internet.de/b...</td>\n",
       "      <td>11107023017900</td>\n",
       "      <td>[{'link': 'http://www.bmub.bund.de/service/pub...</td>\n",
       "      <td>[{'appointment': {'link': '', 'slots': '0', 'e...</td>\n",
       "      <td>...</td>\n",
       "      <td>{'root_topic': '324831'}</td>\n",
       "      <td>0</td>\n",
       "      <td>[{'link': 'https://senstadtfms.stadt-berlin.de...</td>\n",
       "      <td>0</td>\n",
       "      <td>Den ausgefüllten Antrag auf Bewilligung von Wo...</td>\n",
       "      <td>false</td>\n",
       "      <td>Sozialleistungen</td>\n",
       "      <td>Wohngeld</td>\n",
       "      <td>Bewilligung</td>\n",
       "      <td>Förderung | Wohnhilfe | Wohnen | Wohngeld | Wo...</td>\n",
       "    </tr>\n",
       "    <tr>\n",
       "      <th>2</th>\n",
       "      <td>{'link': 'https://service.berlin.de/terminvere...</td>\n",
       "      <td>[{'id': '12667', 'name': 'Bezirksamt Charlotte...</td>\n",
       "      <td>Befindet sich die Hauptwohnung in Berlin und d...</td>\n",
       "      <td>bis 11,00 Euro</td>\n",
       "      <td>[]</td>\n",
       "      <td>120658</td>\n",
       "      <td>[{'link': 'http://www.gesetze-im-internet.de/s...</td>\n",
       "      <td>11036008014900</td>\n",
       "      <td>[]</td>\n",
       "      <td>[{'appointment': {'link': 'https://service.ber...</td>\n",
       "      <td>...</td>\n",
       "      <td>{'root_topic': '324803'}</td>\n",
       "      <td>0</td>\n",
       "      <td>[{'link': '', 'description': 'false', 'name': ...</td>\n",
       "      <td>0</td>\n",
       "      <td>Die Dienstleistung kann bei der Zulassungsbehö...</td>\n",
       "      <td>True</td>\n",
       "      <td>Fahrzeugzulassung</td>\n",
       "      <td>Kraftfahrzeug</td>\n",
       "      <td>Meldung</td>\n",
       "      <td>Fahrzeugscheinänderungen | Zulassungsbescheini...</td>\n",
       "    </tr>\n",
       "    <tr>\n",
       "      <th>3</th>\n",
       "      <td>{'link': ''}</td>\n",
       "      <td>[{'id': '12667', 'name': 'Bezirksamt Charlotte...</td>\n",
       "      <td>Wohngeld kann Ihnen angemessenes und familien-...</td>\n",
       "      <td>keine</td>\n",
       "      <td>[{'link': 'https://senstadtfms.stadt-berlin.de...</td>\n",
       "      <td>120665</td>\n",
       "      <td>[{'link': 'http://www.gesetze-im-internet.de/b...</td>\n",
       "      <td>11107023017901</td>\n",
       "      <td>[{'link': 'http://www.bmub.bund.de/service/pub...</td>\n",
       "      <td>[{'appointment': {'link': '', 'slots': '0', 'e...</td>\n",
       "      <td>...</td>\n",
       "      <td>{'root_topic': '324831'}</td>\n",
       "      <td>0</td>\n",
       "      <td>[{'link': 'https://senstadtfms.stadt-berlin.de...</td>\n",
       "      <td>0</td>\n",
       "      <td>Den ausgefüllten Antrag auf Lastenzuschuss und...</td>\n",
       "      <td>false</td>\n",
       "      <td>Sozialleistungen</td>\n",
       "      <td>Wohngeld</td>\n",
       "      <td>Bewilligung</td>\n",
       "      <td>Wohnung | Förderung | Wohngeld | Wohnhilfe | E...</td>\n",
       "    </tr>\n",
       "    <tr>\n",
       "      <th>4</th>\n",
       "      <td>{'link': ''}</td>\n",
       "      <td>[{'id': '12667', 'name': 'Bezirksamt Charlotte...</td>\n",
       "      <td>Mit einem Wohnberechtigungsschein (WBS) können...</td>\n",
       "      <td>Gebührenfrei</td>\n",
       "      <td>[{'link': 'https://senstadtfms.stadt-berlin.de...</td>\n",
       "      <td>120671</td>\n",
       "      <td>[{'link': 'http://www.gesetze-im-internet.de/b...</td>\n",
       "      <td>11107022900900</td>\n",
       "      <td>[]</td>\n",
       "      <td>[{'appointment': {'link': '', 'slots': '0', 'e...</td>\n",
       "      <td>...</td>\n",
       "      <td>{'root_topic': '324831'}</td>\n",
       "      <td>0</td>\n",
       "      <td>[{'link': 'https://senstadtfms.stadt-berlin.de...</td>\n",
       "      <td>0</td>\n",
       "      <td>Wohnungsamt des Bezirks, in dem Sie wohnen. Wo...</td>\n",
       "      <td>false</td>\n",
       "      <td>Sozialleistungen</td>\n",
       "      <td>Wohnberechtigungsschein</td>\n",
       "      <td>WBS - Antragsannahme</td>\n",
       "      <td>Sozialwohnung | Zinsbescheinigung | Wohnraum |...</td>\n",
       "    </tr>\n",
       "  </tbody>\n",
       "</table>\n",
       "<p>5 rows × 26 columns</p>\n",
       "</div>"
      ],
      "text/plain": [
       "                                         appointment  \\\n",
       "0  {'link': 'https://service.berlin.de/terminvere...   \n",
       "1                                       {'link': ''}   \n",
       "2  {'link': 'https://service.berlin.de/terminvere...   \n",
       "3                                       {'link': ''}   \n",
       "4                                       {'link': ''}   \n",
       "\n",
       "                                         authorities  \\\n",
       "0  [{'id': '12667', 'name': 'Bezirksamt Charlotte...   \n",
       "1  [{'id': '12667', 'name': 'Bezirksamt Charlotte...   \n",
       "2  [{'id': '12667', 'name': 'Bezirksamt Charlotte...   \n",
       "3  [{'id': '12667', 'name': 'Bezirksamt Charlotte...   \n",
       "4  [{'id': '12667', 'name': 'Bezirksamt Charlotte...   \n",
       "\n",
       "                                         description  \\\n",
       "0  <ul class=\"list\"><li>Sie geben eine Berliner W...   \n",
       "1  Wohngeld kann Ihnen angemessenes und familien-...   \n",
       "2  Befindet sich die Hauptwohnung in Berlin und d...   \n",
       "3  Wohngeld kann Ihnen angemessenes und familien-...   \n",
       "4  Mit einem Wohnberechtigungsschein (WBS) können...   \n",
       "\n",
       "                                                fees  \\\n",
       "0  gebührenfrei; dies gilt auch für die Abmeldebe...   \n",
       "1                                              keine   \n",
       "2                                     bis 11,00 Euro   \n",
       "3                                              keine   \n",
       "4                                       Gebührenfrei   \n",
       "\n",
       "                                               forms      id  \\\n",
       "0  [{'link': 'http://www.berlin.de/formularserver...  120335   \n",
       "1  [{'link': 'https://senstadtfms.stadt-berlin.de...  120656   \n",
       "2                                                 []  120658   \n",
       "3  [{'link': 'https://senstadtfms.stadt-berlin.de...  120665   \n",
       "4  [{'link': 'https://senstadtfms.stadt-berlin.de...  120671   \n",
       "\n",
       "                                               legal           leika  \\\n",
       "0  [{'link': 'http://www.gesetze-im-internet.de/b...  99115005070000   \n",
       "1  [{'link': 'http://www.gesetze-im-internet.de/b...  11107023017900   \n",
       "2  [{'link': 'http://www.gesetze-im-internet.de/s...  11036008014900   \n",
       "3  [{'link': 'http://www.gesetze-im-internet.de/b...  11107023017901   \n",
       "4  [{'link': 'http://www.gesetze-im-internet.de/b...  11107022900900   \n",
       "\n",
       "                                               links  \\\n",
       "0  [{'link': 'https://www.bmi.bund.de/DE/Themen/M...   \n",
       "1  [{'link': 'http://www.bmub.bund.de/service/pub...   \n",
       "2                                                 []   \n",
       "3  [{'link': 'http://www.bmub.bund.de/service/pub...   \n",
       "4                                                 []   \n",
       "\n",
       "                                           locations  \\\n",
       "0  [{'appointment': {'link': 'https://service.ber...   \n",
       "1  [{'appointment': {'link': '', 'slots': '0', 'e...   \n",
       "2  [{'appointment': {'link': 'https://service.ber...   \n",
       "3  [{'appointment': {'link': '', 'slots': '0', 'e...   \n",
       "4  [{'appointment': {'link': '', 'slots': '0', 'e...   \n",
       "\n",
       "                         ...                          \\\n",
       "0                        ...                           \n",
       "1                        ...                           \n",
       "2                        ...                           \n",
       "3                        ...                           \n",
       "4                        ...                           \n",
       "\n",
       "                   relation representation  \\\n",
       "0  {'root_topic': '324835'}              0   \n",
       "1  {'root_topic': '324831'}              0   \n",
       "2  {'root_topic': '324803'}              0   \n",
       "3  {'root_topic': '324831'}              0   \n",
       "4  {'root_topic': '324831'}              0   \n",
       "\n",
       "                                        requirements residence  \\\n",
       "0  [{'link': '', 'description': 'Die Abmeldung ka...         0   \n",
       "1  [{'link': 'https://senstadtfms.stadt-berlin.de...         0   \n",
       "2  [{'link': '', 'description': 'false', 'name': ...         0   \n",
       "3  [{'link': 'https://senstadtfms.stadt-berlin.de...         0   \n",
       "4  [{'link': 'https://senstadtfms.stadt-berlin.de...         0   \n",
       "\n",
       "                                      responsibility responsibility_all  \\\n",
       "0  Diese Dienstleistung erhalten Sie in allen Ber...               True   \n",
       "1  Den ausgefüllten Antrag auf Bewilligung von Wo...              false   \n",
       "2  Die Dienstleistung kann bei der Zulassungsbehö...               True   \n",
       "3  Den ausgefüllten Antrag auf Lastenzuschuss und...              false   \n",
       "4  Wohnungsamt des Bezirks, in dem Sie wohnen. Wo...              false   \n",
       "\n",
       "        Leika Gruppe            Leika Kennung     Leika Verrichtung  \\\n",
       "0           Wohnsitz                 Wohnsitz             Abmeldung   \n",
       "1   Sozialleistungen                 Wohngeld           Bewilligung   \n",
       "2  Fahrzeugzulassung            Kraftfahrzeug               Meldung   \n",
       "3   Sozialleistungen                 Wohngeld           Bewilligung   \n",
       "4   Sozialleistungen  Wohnberechtigungsschein  WBS - Antragsannahme   \n",
       "\n",
       "                                      Leika Synonyme  \n",
       "0  Abmeldung | Wohnungsabmeldung | Wegzug | abmel...  \n",
       "1  Förderung | Wohnhilfe | Wohnen | Wohngeld | Wo...  \n",
       "2  Fahrzeugscheinänderungen | Zulassungsbescheini...  \n",
       "3  Wohnung | Förderung | Wohngeld | Wohnhilfe | E...  \n",
       "4  Sozialwohnung | Zinsbescheinigung | Wohnraum |...  \n",
       "\n",
       "[5 rows x 26 columns]"
      ]
     },
     "execution_count": 8,
     "metadata": {},
     "output_type": "execute_result"
    }
   ],
   "source": [
    "result.head()"
   ]
  },
  {
   "cell_type": "code",
   "execution_count": 9,
   "metadata": {
    "collapsed": true
   },
   "outputs": [],
   "source": [
    "f = open('parsedData.json','w')\n",
    "f.write(result.to_json(orient='records'))\n",
    "f.close()"
   ]
  },
  {
   "cell_type": "code",
   "execution_count": 62,
   "metadata": {
    "collapsed": false
   },
   "outputs": [
    {
     "name": "stdout",
     "output_type": "stream",
     "text": [
      "Abschriften\n"
     ]
    }
   ],
   "source": [
    "import json\n",
    "from json import dumps\n",
    "\n",
    "json_dict = {}\n",
    "json_dict['services'] = {}\n",
    "for grp, grp_data in result.groupby('Leika Kennung'):\n",
    "    # per leika kennung\n",
    "    # create dict\n",
    "    #json_dict['services'][grp] = {}\n",
    "    print(grp)\n",
    "    #print(grp_data.groupby('Leika Verrichtung').head())\n",
    "    for verb, verb_data in grp_data.groupby('Leika Verrichtung'):\n",
    "        print('hello')\n",
    "        print(verb)\n",
    "        # per leika verrichtung\n",
    "        # create list\n",
    "        #grp_dict['category_list'] = []\n",
    "        #cat_dict = {}\n",
    "        #cat_dict['category'] = cat\n",
    "        #grp_dict['category_list'].append(cat_dict)\n",
    "    break\n",
    "    #json_dict['group_list'].append(grp_dict)\n",
    "#json_out = dumps(json_dict)\n",
    "#parsed = json.loads(json_out)"
   ]
  },
  {
   "cell_type": "code",
   "execution_count": 83,
   "metadata": {
    "collapsed": false
   },
   "outputs": [],
   "source": [
    "json_data = {}\n",
    "verrichtung_dict = defaultdict(list)\n",
    "n = 0\n",
    "\n",
    "for (kennung, verrichtung), services in result.groupby(['Leika Kennung', 'Leika Verrichtung']):\n",
    "    \n",
    "    verrichtung_dict = defaultdict(list)\n",
    "    tmp = services.to_json(orient='records')\n",
    "    \n",
    "    json_data[kennung] = verrichtung_dict[verrichtung] = tmp\n",
    "    \n",
    "    \n",
    "    n += 1\n",
    "    if n == 5:\n",
    "        break"
   ]
  },
  {
   "cell_type": "code",
   "execution_count": 86,
   "metadata": {
    "collapsed": false
   },
   "outputs": [
    {
     "name": "stdout",
     "output_type": "stream",
     "text": [
      "Akten im Bußgeldverfahren\n",
      "[{\"appointment\":{\"link\":\"\"},\"authorities\":[{\"id\":\"12758\",\"name\":\"Der Polizeipr\\u00e4sident in Berlin\",\"webinfo\":\"http:\\/\\/www.berlin.de\\/polizei\\/\"}],\"description\":\"In der Bu\\u00dfgeldstelle k\\u00f6nnen Sie kostenlos unter Aufsicht und unter Beachtung datenschutzrechtlicher Bestimmungen Akteneinsicht in Ihre Vorgangsakte nehmen. Sofern ein Verteidiger am Verfahren beteiligt ist, kann dieser die geb\\u00fchrenpflichtige  Akteneinsicht durch \\u00dcbersendung in die Kanzleir\\u00e4ume beantragen.\",\"fees\":\"Die Akteneinsicht vor Ort ist geb\\u00fchrenfrei. F\\u00fcr einen Aktenausdruck entstehen Geb\\u00fchren in H\\u00f6he der jeweils g\\u00fcltigen S\\u00e4tze der Verwaltungsgeb\\u00fchrenordnung.<br \\/>\\n<br \\/>\\nDie Aktenversendungspauschale (nur f\\u00fcr den Verteidiger m\\u00f6glich) betr\\u00e4gt 12,00 Euro.\",\"forms\":[],\"id\":\"326399\",\"legal\":[{\"link\":\"http:\\/\\/www.gesetze-im-internet.de\\/owig_1968\\/\",\"description\":\"false\",\"name\":\"Gesetz \\u00fcber Ordnungswidrigkeiten -OWiG-\"},{\"link\":\"http:\\/\\/www.gesetze-im-internet.de\\/vwvfg\\/\",\"description\":\"false\",\"name\":\"Verwaltungsverfahrensgesetz -VwVfG-\"},{\"link\":\"http:\\/\\/gesetze.berlin.de\\/jportal\\/?quelle=jlink&query=VwGebO+BE&psml=bsbeprod.psml&max=true\",\"description\":\"false\",\"name\":\"Verwaltungsgeb\\u00fchrenordnung -VGebO-\"}],\"leika\":\"99089070109000\",\"links\":[{\"link\":\"http:\\/\\/www.berlin.de\\/polizei\\/aufgaben\\/bussgeldstelle\\/\",\"description\":\"false\",\"name\":\"Der Polizeipr\\u00e4sident in Berlin - Aufgaben - Bu\\u00dfgeldstelle\"}],\"locations\":[{\"appointment\":{\"link\":\"https:\\/\\/service.berlin.de\\/terminvereinbarung\\/termin\\/tag.php?termin=1&dienstleister=324186&anliegen[]=326399\",\"slots\":\"0\",\"external\":\"false\",\"multiple\":\"0\",\"allowed\":true},\"location\":\"324186\",\"hint\":\"\",\"url\":\"\\/\\/service.berlin.de\\/dienstleistung\\/326399\\/standort\\/324186\\/\"}],\"meta\":{\"locale\":\"de\",\"url\":\"\\/\\/service.berlin.de\\/dienstleistung\\/326399\\/\",\"keywords\":\"Akteneinsicht, Fotoeinsicht, Beweismitteleinsicht, Fahrerbenennung, Aktenversendung, Beweismittel, Zeugen, Bu\\u00dfgeld, Bussgeld\",\"lastupdate\":\"2016-11-01T08:36:48+01:00\"},\"name\":\"Akten im Bu\\u00dfgeldverfahren - Einsicht gew\\u00e4hren\",\"onlineprocessing\":{\"link\":\"\",\"description\":\"false\"},\"prerequisites\":[{\"link\":\"\",\"description\":\"Akteneinsicht wird nur der\\/dem Betroffenen selbst oder dem Bevollm\\u00e4chtigten gew\\u00e4hrt.\",\"name\":\"Berechtigung\"}],\"process_time\":\"30 Minuten\",\"publications\":[],\"relation\":{\"root_topic\":\"324803\"},\"representation\":\"0\",\"requirements\":[{\"link\":\"\",\"description\":\"Personalausweis, Reisepass, Passersatzpapiere f\\u00fcr ausl\\u00e4ndische Staatsangeh\\u00f6rige\",\"name\":\"Identit\\u00e4tsnachweis\"},{\"link\":\"\",\"description\":\"Es ist die unterschriebene Vollmacht der\\/des Betroffenen notwendig.\",\"name\":\"Akteneinsicht durch einen Dritten\"}],\"residence\":\"0\",\"responsibility\":\"Zust\\u00e4ndig ist die Beh\\u00f6rde die den Bescheid erlassen hat.\",\"responsibility_all\":\"false\",\"Leika Gruppe\":\"Sicherheit und Ordnung\",\"Leika Kennung\":\"Akten im Bu\\u00dfgeldverfahren\",\"Leika Verrichtung\":\"Einsicht gew\\u00e4hren\",\"Leika Synonyme\":\"Akteneinsicht | Fotoeinsicht | Beweismitteleinsicht | Fahrerbenennung | Aktenversendung | Beweismittel | Zeugen | Bu\\u00dfgeld | Bussgeld\"}]\n"
     ]
    }
   ],
   "source": [
    "#json_out = dumps(json_data)\n",
    "#parsed = json.loads(json_data)\n",
    "\n",
    "for key, value in json_data.items():\n",
    "    print(key)\n",
    "    print(value)\n",
    "    break"
   ]
  },
  {
   "cell_type": "code",
   "execution_count": 46,
   "metadata": {
    "collapsed": false
   },
   "outputs": [],
   "source": [
    "df2 = result.set_index(['Leika Gruppe', 'Leika Verrichtung']).stack()"
   ]
  },
  {
   "cell_type": "code",
   "execution_count": 48,
   "metadata": {
    "collapsed": false
   },
   "outputs": [
    {
     "data": {
      "text/plain": [
       "Leika Gruppe      Leika Verrichtung                    \n",
       "Wohnsitz          Abmeldung          appointment           {'link': 'https://service.berlin.de/terminvere...\n",
       "                                     authorities           [{'id': '12667', 'name': 'Bezirksamt Charlotte...\n",
       "                                     description           <ul class=\"list\"><li>Sie geben eine Berliner W...\n",
       "                                     fees                  gebührenfrei; dies gilt auch für die Abmeldebe...\n",
       "                                     forms                 [{'link': 'http://www.berlin.de/formularserver...\n",
       "                                     id                                                               120335\n",
       "                                     legal                 [{'link': 'http://www.gesetze-im-internet.de/b...\n",
       "                                     leika                                                    99115005070000\n",
       "                                     links                 [{'link': 'https://www.bmi.bund.de/DE/Themen/M...\n",
       "                                     locations             [{'appointment': {'link': 'https://service.ber...\n",
       "                                     meta                  {'locale': 'de', 'url': '//service.berlin.de/d...\n",
       "                                     name                                            Abmeldung einer Wohnung\n",
       "                                     onlineprocessing                   {'link': '', 'description': 'false'}\n",
       "                                     prerequisites         [{'link': '', 'description': 'false', 'name': ...\n",
       "                                     process_time          Bei persönlicher Vorsprache in einem Bürgeramt...\n",
       "                                     publications                                                         []\n",
       "                                     relation                                       {'root_topic': '324835'}\n",
       "                                     representation                                                        0\n",
       "                                     requirements          [{'link': '', 'description': 'Die Abmeldung ka...\n",
       "                                     residence                                                             0\n",
       "                                     responsibility        Diese Dienstleistung erhalten Sie in allen Ber...\n",
       "                                     responsibility_all                                                 True\n",
       "                                     Leika Kennung                                                  Wohnsitz\n",
       "                                     Leika Synonyme        Abmeldung | Wohnungsabmeldung | Wegzug | abmel...\n",
       "Sozialleistungen  Bewilligung        appointment                                                {'link': ''}\n",
       "                                     authorities           [{'id': '12667', 'name': 'Bezirksamt Charlotte...\n",
       "                                     description           Wohngeld kann Ihnen angemessenes und familien-...\n",
       "                                     fees                                                              keine\n",
       "                                     forms                 [{'link': 'https://senstadtfms.stadt-berlin.de...\n",
       "                                     id                                                               120656\n",
       "                                                                                 ...                        \n",
       "Grundbuch         NaN                requirements          [{'link': '', 'description': 'false', 'name': ...\n",
       "                                     residence                                                             0\n",
       "                                     responsibility                                                    false\n",
       "                                     responsibility_all                                                false\n",
       "                                     Leika Kennung                                                 Grundbuch\n",
       "                                     Leika Synonyme        Öffentliches Register | Grundbuch | Grundbuchä...\n",
       "Gewerbe           Meldung            appointment                                                {'link': ''}\n",
       "                                     authorities           [{'id': '12667', 'name': 'Bezirksamt Charlotte...\n",
       "                                     description           Wenn Sie in Ihrem Bewachungsunternehmen Wachpe...\n",
       "                                     fees                  25,00 - 200,00 Euro pro gemeldeter Wachperson ...\n",
       "                                     forms                 [{'link': 'http://www.berlin.de/formularserver...\n",
       "                                     id                                                               327781\n",
       "                                     legal                 [{'link': 'http://www.gesetze-im-internet.de/g...\n",
       "                                     leika                                                    11050004014000\n",
       "                                     links                 [{'link': 'https://www.ihk-berlin.de/pruefunge...\n",
       "                                     locations                                                            []\n",
       "                                     meta                  {'locale': 'de', 'url': '//service.berlin.de/d...\n",
       "                                     name                           Bewachungsgewerbe - Meldung Wachpersonen\n",
       "                                     onlineprocessing                   {'link': '', 'description': 'false'}\n",
       "                                     prerequisites         [{'link': '', 'description': 'Es dürfen nur Pe...\n",
       "                                     process_time                                                      false\n",
       "                                     publications                                                         []\n",
       "                                     relation                                       {'root_topic': '324829'}\n",
       "                                     representation                                                        0\n",
       "                                     requirements          [{'link': 'https://www.ihk-berlin.de/blob/bihk...\n",
       "                                     residence                                                             0\n",
       "                                     responsibility        Die Wachperson ist bei dem für die Niederlassu...\n",
       "                                     responsibility_all                                                false\n",
       "                                     Leika Kennung                                         Bewachungsgewerbe\n",
       "                                     Leika Synonyme        Wachpersonen | Wachpersonal | Beschäftigte | S...\n",
       "dtype: object"
      ]
     },
     "execution_count": 48,
     "metadata": {},
     "output_type": "execute_result"
    }
   ],
   "source": [
    "df2"
   ]
  },
  {
   "cell_type": "code",
   "execution_count": null,
   "metadata": {
    "collapsed": true
   },
   "outputs": [],
   "source": [
    "print(json.dumps(json.loads(j), indent=2, sort_keys=True))"
   ]
  }
 ],
 "metadata": {
  "kernelspec": {
   "display_name": "Python 3",
   "language": "python",
   "name": "python3"
  },
  "language_info": {
   "codemirror_mode": {
    "name": "ipython",
    "version": 3
   },
   "file_extension": ".py",
   "mimetype": "text/x-python",
   "name": "python",
   "nbconvert_exporter": "python",
   "pygments_lexer": "ipython3",
   "version": "3.4.5"
  }
 },
 "nbformat": 4,
 "nbformat_minor": 1
}
