{
 "cells": [
  {
   "cell_type": "code",
   "execution_count": 1,
   "metadata": {
    "collapsed": false
   },
   "outputs": [],
   "source": [
    "import re\n",
    "import json\n",
    "import pandas as pd\n",
    "from collections import defaultdict\n",
    "\n",
    "import json\n",
    "from json import dumps"
   ]
  },
  {
   "cell_type": "markdown",
   "metadata": {},
   "source": [
    "## merge data sources"
   ]
  },
  {
   "cell_type": "code",
   "execution_count": 2,
   "metadata": {
    "collapsed": true
   },
   "outputs": [],
   "source": [
    "with open('dienstleistungen.json') as data_file:    \n",
    "    data = json.load(data_file)"
   ]
  },
  {
   "cell_type": "code",
   "execution_count": 3,
   "metadata": {
    "collapsed": true
   },
   "outputs": [],
   "source": [
    "dienstleistungen = pd.DataFrame(data['data'])"
   ]
  },
  {
   "cell_type": "code",
   "execution_count": 4,
   "metadata": {
    "collapsed": true
   },
   "outputs": [],
   "source": [
    "# extracted Leika Gruppe, Leika Kennung, Leika Verrichtung & Leika Synonyme from d115_to_leika.csv\n",
    "leika = pd.DataFrame.from_csv('data.tsv', sep='\\t').reset_index()"
   ]
  },
  {
   "cell_type": "code",
   "execution_count": 5,
   "metadata": {
    "collapsed": false
   },
   "outputs": [],
   "source": [
    "# parse ID as string\n",
    "leika[['D115 ID']] = leika[['D115 ID']].astype(str)\n",
    "dienstleistungen[['id']] = dienstleistungen[['id']].astype(str)"
   ]
  },
  {
   "cell_type": "code",
   "execution_count": 6,
   "metadata": {
    "collapsed": false
   },
   "outputs": [],
   "source": [
    "result = pd.merge(dienstleistungen, leika, left_on='id', right_on='D115 ID')"
   ]
  },
  {
   "cell_type": "code",
   "execution_count": 7,
   "metadata": {
    "collapsed": true
   },
   "outputs": [],
   "source": [
    "result.drop('D115 ID', axis=1, inplace=True)\n",
    "result.drop('Leika Nummer', axis=1, inplace=True)"
   ]
  },
  {
   "cell_type": "code",
   "execution_count": 8,
   "metadata": {
    "collapsed": false
   },
   "outputs": [
    {
     "data": {
      "text/html": [
       "<div>\n",
       "<table border=\"1\" class=\"dataframe\">\n",
       "  <thead>\n",
       "    <tr style=\"text-align: right;\">\n",
       "      <th></th>\n",
       "      <th>appointment</th>\n",
       "      <th>authorities</th>\n",
       "      <th>description</th>\n",
       "      <th>fees</th>\n",
       "      <th>forms</th>\n",
       "      <th>id</th>\n",
       "      <th>legal</th>\n",
       "      <th>leika</th>\n",
       "      <th>links</th>\n",
       "      <th>locations</th>\n",
       "      <th>...</th>\n",
       "      <th>relation</th>\n",
       "      <th>representation</th>\n",
       "      <th>requirements</th>\n",
       "      <th>residence</th>\n",
       "      <th>responsibility</th>\n",
       "      <th>responsibility_all</th>\n",
       "      <th>Leika Gruppe</th>\n",
       "      <th>Leika Kennung</th>\n",
       "      <th>Leika Verrichtung</th>\n",
       "      <th>Leika Synonyme</th>\n",
       "    </tr>\n",
       "  </thead>\n",
       "  <tbody>\n",
       "    <tr>\n",
       "      <th>0</th>\n",
       "      <td>{'link': 'https://service.berlin.de/terminvere...</td>\n",
       "      <td>[{'name': 'Bezirksamt Charlottenburg - Wilmers...</td>\n",
       "      <td>&lt;ul class=\"list\"&gt;&lt;li&gt;Sie geben eine Berliner W...</td>\n",
       "      <td>gebührenfrei; dies gilt auch für die Abmeldebe...</td>\n",
       "      <td>[{'name': 'Abmeldung bei der Meldebehörde', 'l...</td>\n",
       "      <td>120335</td>\n",
       "      <td>[{'name': 'Bundesmeldegesetz', 'link': 'http:/...</td>\n",
       "      <td>99115005070000</td>\n",
       "      <td>[{'name': 'Informationen zum Bundesmeldegesetz...</td>\n",
       "      <td>[{'location': '122231', 'appointment': {'link'...</td>\n",
       "      <td>...</td>\n",
       "      <td>{'root_topic': '324835'}</td>\n",
       "      <td>0</td>\n",
       "      <td>[{'name': 'Abmeldung bei der Meldebehörde', 'l...</td>\n",
       "      <td>0</td>\n",
       "      <td>Diese Dienstleistung erhalten Sie in allen Ber...</td>\n",
       "      <td>True</td>\n",
       "      <td>Wohnsitz</td>\n",
       "      <td>Wohnsitz</td>\n",
       "      <td>Abmeldung</td>\n",
       "      <td>Abmeldung | Wohnungsabmeldung | Wegzug | abmel...</td>\n",
       "    </tr>\n",
       "    <tr>\n",
       "      <th>1</th>\n",
       "      <td>{'link': ''}</td>\n",
       "      <td>[{'name': 'Bezirksamt Charlottenburg - Wilmers...</td>\n",
       "      <td>Wohngeld kann Ihnen angemessenes und familien-...</td>\n",
       "      <td>keine</td>\n",
       "      <td>[{'name': 'Antrag auf Mietzuschuss', 'link': '...</td>\n",
       "      <td>120656</td>\n",
       "      <td>[{'name': 'Wohngeldgesetz', 'link': 'http://ww...</td>\n",
       "      <td>11107023017900</td>\n",
       "      <td>[{'name': 'Wohngeldreform zum 1. Januar 2016',...</td>\n",
       "      <td>[{'location': '122231', 'appointment': {'link'...</td>\n",
       "      <td>...</td>\n",
       "      <td>{'root_topic': '324831'}</td>\n",
       "      <td>0</td>\n",
       "      <td>[{'name': 'Antragsformular', 'link': 'https://...</td>\n",
       "      <td>0</td>\n",
       "      <td>Den ausgefüllten Antrag auf Bewilligung von Wo...</td>\n",
       "      <td>false</td>\n",
       "      <td>Sozialleistungen</td>\n",
       "      <td>Wohngeld</td>\n",
       "      <td>Bewilligung</td>\n",
       "      <td>Förderung | Wohnhilfe | Wohnen | Wohngeld | Wo...</td>\n",
       "    </tr>\n",
       "    <tr>\n",
       "      <th>2</th>\n",
       "      <td>{'link': 'https://service.berlin.de/terminvere...</td>\n",
       "      <td>[{'name': 'Bezirksamt Charlottenburg - Wilmers...</td>\n",
       "      <td>Befindet sich die Hauptwohnung in Berlin und d...</td>\n",
       "      <td>bis 11,00 Euro</td>\n",
       "      <td>[]</td>\n",
       "      <td>120658</td>\n",
       "      <td>[{'name': 'Straßenverkehrszulassungsordnung - ...</td>\n",
       "      <td>11036008014900</td>\n",
       "      <td>[]</td>\n",
       "      <td>[{'location': '122231', 'appointment': {'link'...</td>\n",
       "      <td>...</td>\n",
       "      <td>{'root_topic': '324803'}</td>\n",
       "      <td>0</td>\n",
       "      <td>[{'name': 'Fahrzeugschein / Zulassungsbeschein...</td>\n",
       "      <td>0</td>\n",
       "      <td>Die Dienstleistung kann bei der Zulassungsbehö...</td>\n",
       "      <td>True</td>\n",
       "      <td>Fahrzeugzulassung</td>\n",
       "      <td>Kraftfahrzeug</td>\n",
       "      <td>Meldung</td>\n",
       "      <td>Fahrzeugscheinänderungen | Zulassungsbescheini...</td>\n",
       "    </tr>\n",
       "    <tr>\n",
       "      <th>3</th>\n",
       "      <td>{'link': ''}</td>\n",
       "      <td>[{'name': 'Bezirksamt Charlottenburg - Wilmers...</td>\n",
       "      <td>Wohngeld kann Ihnen angemessenes und familien-...</td>\n",
       "      <td>keine</td>\n",
       "      <td>[{'name': 'Antrag auf Lastenzuschuss', 'link':...</td>\n",
       "      <td>120665</td>\n",
       "      <td>[{'name': 'Wohngeldgesetz', 'link': 'http://ww...</td>\n",
       "      <td>11107023017901</td>\n",
       "      <td>[{'name': 'Wohngeldreform zum 1. Januar 2016',...</td>\n",
       "      <td>[{'location': '122231', 'appointment': {'link'...</td>\n",
       "      <td>...</td>\n",
       "      <td>{'root_topic': '324831'}</td>\n",
       "      <td>0</td>\n",
       "      <td>[{'name': 'Antragsformular ', 'link': 'https:/...</td>\n",
       "      <td>0</td>\n",
       "      <td>Den ausgefüllten Antrag auf Lastenzuschuss und...</td>\n",
       "      <td>false</td>\n",
       "      <td>Sozialleistungen</td>\n",
       "      <td>Wohngeld</td>\n",
       "      <td>Bewilligung</td>\n",
       "      <td>Wohnung | Förderung | Wohngeld | Wohnhilfe | E...</td>\n",
       "    </tr>\n",
       "    <tr>\n",
       "      <th>4</th>\n",
       "      <td>{'link': ''}</td>\n",
       "      <td>[{'name': 'Bezirksamt Charlottenburg - Wilmers...</td>\n",
       "      <td>Mit einem Wohnberechtigungsschein (WBS) können...</td>\n",
       "      <td>Gebührenfrei</td>\n",
       "      <td>[{'name': 'Antrag auf einen Wohnberechtigungss...</td>\n",
       "      <td>120671</td>\n",
       "      <td>[{'name': 'Gesetz über die soziale Wohnraumför...</td>\n",
       "      <td>11107022900900</td>\n",
       "      <td>[]</td>\n",
       "      <td>[{'location': '122231', 'appointment': {'link'...</td>\n",
       "      <td>...</td>\n",
       "      <td>{'root_topic': '324831'}</td>\n",
       "      <td>0</td>\n",
       "      <td>[{'name': 'Antrag auf einen Wohnberechtigungss...</td>\n",
       "      <td>0</td>\n",
       "      <td>Wohnungsamt des Bezirks, in dem Sie wohnen. Wo...</td>\n",
       "      <td>false</td>\n",
       "      <td>Sozialleistungen</td>\n",
       "      <td>Wohnberechtigungsschein</td>\n",
       "      <td>WBS - Antragsannahme</td>\n",
       "      <td>Sozialwohnung | Zinsbescheinigung | Wohnraum |...</td>\n",
       "    </tr>\n",
       "  </tbody>\n",
       "</table>\n",
       "<p>5 rows × 26 columns</p>\n",
       "</div>"
      ],
      "text/plain": [
       "                                         appointment  \\\n",
       "0  {'link': 'https://service.berlin.de/terminvere...   \n",
       "1                                       {'link': ''}   \n",
       "2  {'link': 'https://service.berlin.de/terminvere...   \n",
       "3                                       {'link': ''}   \n",
       "4                                       {'link': ''}   \n",
       "\n",
       "                                         authorities  \\\n",
       "0  [{'name': 'Bezirksamt Charlottenburg - Wilmers...   \n",
       "1  [{'name': 'Bezirksamt Charlottenburg - Wilmers...   \n",
       "2  [{'name': 'Bezirksamt Charlottenburg - Wilmers...   \n",
       "3  [{'name': 'Bezirksamt Charlottenburg - Wilmers...   \n",
       "4  [{'name': 'Bezirksamt Charlottenburg - Wilmers...   \n",
       "\n",
       "                                         description  \\\n",
       "0  <ul class=\"list\"><li>Sie geben eine Berliner W...   \n",
       "1  Wohngeld kann Ihnen angemessenes und familien-...   \n",
       "2  Befindet sich die Hauptwohnung in Berlin und d...   \n",
       "3  Wohngeld kann Ihnen angemessenes und familien-...   \n",
       "4  Mit einem Wohnberechtigungsschein (WBS) können...   \n",
       "\n",
       "                                                fees  \\\n",
       "0  gebührenfrei; dies gilt auch für die Abmeldebe...   \n",
       "1                                              keine   \n",
       "2                                     bis 11,00 Euro   \n",
       "3                                              keine   \n",
       "4                                       Gebührenfrei   \n",
       "\n",
       "                                               forms      id  \\\n",
       "0  [{'name': 'Abmeldung bei der Meldebehörde', 'l...  120335   \n",
       "1  [{'name': 'Antrag auf Mietzuschuss', 'link': '...  120656   \n",
       "2                                                 []  120658   \n",
       "3  [{'name': 'Antrag auf Lastenzuschuss', 'link':...  120665   \n",
       "4  [{'name': 'Antrag auf einen Wohnberechtigungss...  120671   \n",
       "\n",
       "                                               legal           leika  \\\n",
       "0  [{'name': 'Bundesmeldegesetz', 'link': 'http:/...  99115005070000   \n",
       "1  [{'name': 'Wohngeldgesetz', 'link': 'http://ww...  11107023017900   \n",
       "2  [{'name': 'Straßenverkehrszulassungsordnung - ...  11036008014900   \n",
       "3  [{'name': 'Wohngeldgesetz', 'link': 'http://ww...  11107023017901   \n",
       "4  [{'name': 'Gesetz über die soziale Wohnraumför...  11107022900900   \n",
       "\n",
       "                                               links  \\\n",
       "0  [{'name': 'Informationen zum Bundesmeldegesetz...   \n",
       "1  [{'name': 'Wohngeldreform zum 1. Januar 2016',...   \n",
       "2                                                 []   \n",
       "3  [{'name': 'Wohngeldreform zum 1. Januar 2016',...   \n",
       "4                                                 []   \n",
       "\n",
       "                                           locations  \\\n",
       "0  [{'location': '122231', 'appointment': {'link'...   \n",
       "1  [{'location': '122231', 'appointment': {'link'...   \n",
       "2  [{'location': '122231', 'appointment': {'link'...   \n",
       "3  [{'location': '122231', 'appointment': {'link'...   \n",
       "4  [{'location': '122231', 'appointment': {'link'...   \n",
       "\n",
       "                         ...                          \\\n",
       "0                        ...                           \n",
       "1                        ...                           \n",
       "2                        ...                           \n",
       "3                        ...                           \n",
       "4                        ...                           \n",
       "\n",
       "                   relation representation  \\\n",
       "0  {'root_topic': '324835'}              0   \n",
       "1  {'root_topic': '324831'}              0   \n",
       "2  {'root_topic': '324803'}              0   \n",
       "3  {'root_topic': '324831'}              0   \n",
       "4  {'root_topic': '324831'}              0   \n",
       "\n",
       "                                        requirements residence  \\\n",
       "0  [{'name': 'Abmeldung bei der Meldebehörde', 'l...         0   \n",
       "1  [{'name': 'Antragsformular', 'link': 'https://...         0   \n",
       "2  [{'name': 'Fahrzeugschein / Zulassungsbeschein...         0   \n",
       "3  [{'name': 'Antragsformular ', 'link': 'https:/...         0   \n",
       "4  [{'name': 'Antrag auf einen Wohnberechtigungss...         0   \n",
       "\n",
       "                                      responsibility responsibility_all  \\\n",
       "0  Diese Dienstleistung erhalten Sie in allen Ber...               True   \n",
       "1  Den ausgefüllten Antrag auf Bewilligung von Wo...              false   \n",
       "2  Die Dienstleistung kann bei der Zulassungsbehö...               True   \n",
       "3  Den ausgefüllten Antrag auf Lastenzuschuss und...              false   \n",
       "4  Wohnungsamt des Bezirks, in dem Sie wohnen. Wo...              false   \n",
       "\n",
       "        Leika Gruppe            Leika Kennung     Leika Verrichtung  \\\n",
       "0           Wohnsitz                 Wohnsitz             Abmeldung   \n",
       "1   Sozialleistungen                 Wohngeld           Bewilligung   \n",
       "2  Fahrzeugzulassung            Kraftfahrzeug               Meldung   \n",
       "3   Sozialleistungen                 Wohngeld           Bewilligung   \n",
       "4   Sozialleistungen  Wohnberechtigungsschein  WBS - Antragsannahme   \n",
       "\n",
       "                                      Leika Synonyme  \n",
       "0  Abmeldung | Wohnungsabmeldung | Wegzug | abmel...  \n",
       "1  Förderung | Wohnhilfe | Wohnen | Wohngeld | Wo...  \n",
       "2  Fahrzeugscheinänderungen | Zulassungsbescheini...  \n",
       "3  Wohnung | Förderung | Wohngeld | Wohnhilfe | E...  \n",
       "4  Sozialwohnung | Zinsbescheinigung | Wohnraum |...  \n",
       "\n",
       "[5 rows x 26 columns]"
      ]
     },
     "execution_count": 8,
     "metadata": {},
     "output_type": "execute_result"
    }
   ],
   "source": [
    "result.head()"
   ]
  },
  {
   "cell_type": "markdown",
   "metadata": {},
   "source": [
    "## create nested JSON from grouped dataframe"
   ]
  },
  {
   "cell_type": "code",
   "execution_count": 10,
   "metadata": {
    "collapsed": false
   },
   "outputs": [],
   "source": [
    "json_data = defaultdict(lambda: defaultdict(list))\n",
    "result['Leika Verrichtung'] = result['Leika Verrichtung'].astype(str)\n",
    "\n",
    "for index, row in result.iterrows():\n",
    "    # firebase parsing\n",
    "    kennung = re.sub('[\\$#\\[\\]\\/\\.]', ' ', row['Leika Kennung'])\n",
    "    verrichtung = re.sub('[\\$#\\[\\]\\/\\.]', ' ', row['Leika Verrichtung'])\n",
    "    \n",
    "    service = row.to_dict()\n",
    "    \n",
    "    json_data[kennung][verrichtung].append(service)\n",
    "    \n",
    "    \n",
    "output = {}\n",
    "output['tree'] = json_data\n"
   ]
  },
  {
   "cell_type": "markdown",
   "metadata": {},
   "source": [
    "### add standorte.json to data structure"
   ]
  },
  {
   "cell_type": "code",
   "execution_count": 15,
   "metadata": {
    "collapsed": true
   },
   "outputs": [],
   "source": [
    "with open('standorte.json') as data_file:    \n",
    "    data = json.load(data_file)"
   ]
  },
  {
   "cell_type": "code",
   "execution_count": 16,
   "metadata": {
    "collapsed": true
   },
   "outputs": [],
   "source": [
    "output['standorte'] = data['data']"
   ]
  },
  {
   "cell_type": "code",
   "execution_count": 17,
   "metadata": {
    "collapsed": true
   },
   "outputs": [],
   "source": [
    "json_out = dumps(output)\n",
    "\n",
    "f = open('base.json','w')\n",
    "f.write(json_out)\n",
    "f.close()"
   ]
  },
  {
   "cell_type": "code",
   "execution_count": null,
   "metadata": {
    "collapsed": true
   },
   "outputs": [],
   "source": []
  }
 ],
 "metadata": {
  "kernelspec": {
   "display_name": "Python 3",
   "language": "python",
   "name": "python3"
  },
  "language_info": {
   "codemirror_mode": {
    "name": "ipython",
    "version": 3
   },
   "file_extension": ".py",
   "mimetype": "text/x-python",
   "name": "python",
   "nbconvert_exporter": "python",
   "pygments_lexer": "ipython3",
   "version": "3.4.5"
  }
 },
 "nbformat": 4,
 "nbformat_minor": 1
}
