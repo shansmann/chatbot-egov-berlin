{
 "cells": [
  {
   "cell_type": "code",
   "execution_count": 1,
   "metadata": {
    "collapsed": true
   },
   "outputs": [],
   "source": [
    "import json\n",
    "import requests\n",
    "import time\n",
    "import spacy\n",
    "import itertools\n",
    "import nltk\n",
    "import copy\n",
    "import re\n",
    "from firebase import firebase\n",
    "\n",
    "from collections import defaultdict"
   ]
  },
  {
   "cell_type": "code",
   "execution_count": 2,
   "metadata": {
    "collapsed": false
   },
   "outputs": [],
   "source": [
    "firebase = firebase.FirebaseApplication('https://mtverena.firebaseio.com/', None)\n",
    "nlp = spacy.load('de')\n",
    "stemmer = nltk.PorterStemmer()\n",
    "url = 'https://www.openthesaurus.de/synonyme/search?q={}&format=application/json'"
   ]
  },
  {
   "cell_type": "code",
   "execution_count": 3,
   "metadata": {
    "collapsed": true
   },
   "outputs": [],
   "source": [
    "def clean_word(word):\n",
    "    tmp = re.sub('[\\'\\(\\)\\\"\\?\\.\\!\\:\\;\\-]', ' ', word)\n",
    "    return re.sub(' +',' ',tmp)\n",
    "\n",
    "def stemm_word(word):\n",
    "    return stemmer.stem(word)"
   ]
  },
  {
   "cell_type": "code",
   "execution_count": 4,
   "metadata": {
    "collapsed": true
   },
   "outputs": [],
   "source": [
    "def create_synonyms(synonyms_list):\n",
    "    synonyms = []\n",
    "    for element in itertools.product(*synonyms_list):\n",
    "        synonyms.append(' '.join(element))\n",
    "        \n",
    "    return list(set(synonyms))"
   ]
  },
  {
   "cell_type": "code",
   "execution_count": 5,
   "metadata": {
    "collapsed": true
   },
   "outputs": [],
   "source": [
    "def request_synonyms(orig_word, cleaned_stemmed_word, address):\n",
    "    \"\"\"\n",
    "    requests synonyms from openthesaurus\n",
    "    \"\"\"\n",
    "    \n",
    "    synonyms = [orig_word]\n",
    "    \n",
    "    # request synonyms\n",
    "    try:\n",
    "        r = requests.get(address.format(cleaned_stemmed_word))\n",
    "        r.raise_for_status()\n",
    "        res = r.json()\n",
    "\n",
    "        # for every synset\n",
    "        for synset in res['synsets']:\n",
    "            for word in synset['terms']:\n",
    "                # extract synonyms\n",
    "                term = word['term']\n",
    "                synonyms.append(clean_word(term))\n",
    "                \n",
    "    except requests.exceptions.HTTPError as err:\n",
    "        print('error')\n",
    "    \n",
    "    return list(set(synonyms))"
   ]
  },
  {
   "cell_type": "code",
   "execution_count": null,
   "metadata": {
    "collapsed": true
   },
   "outputs": [],
   "source": [
    "request_synonyms('Kleinunternehmer', 'Kleinunternehmer', url)"
   ]
  },
  {
   "cell_type": "code",
   "execution_count": null,
   "metadata": {
    "collapsed": true
   },
   "outputs": [],
   "source": [
    "'Bescheinigung der Gestattung zur Erbringung vorübergehender grenzüberschreitender Dienstleistungen nach § 9 Absatz 1 Nummer 2 Handwerksordnung (HwO) im Bereich des zulassungspflichtigen Handwerks'"
   ]
  },
  {
   "cell_type": "code",
   "execution_count": null,
   "metadata": {
    "collapsed": true
   },
   "outputs": [],
   "source": [
    "'Restschuldbefreiung'"
   ]
  },
  {
   "cell_type": "code",
   "execution_count": 6,
   "metadata": {
    "collapsed": false
   },
   "outputs": [],
   "source": [
    "# load json (exported from firebase)\n",
    "with open('../data/objectives_topics.json') as data_file:   \n",
    "    data_full = json.load(data_file)\n"
   ]
  },
  {
   "cell_type": "code",
   "execution_count": 7,
   "metadata": {
    "collapsed": false
   },
   "outputs": [
    {
     "data": {
      "text/plain": [
       "450"
      ]
     },
     "execution_count": 7,
     "metadata": {},
     "output_type": "execute_result"
    }
   ],
   "source": [
    "counter = len(list(data_full.keys()))\n",
    "counter"
   ]
  },
  {
   "cell_type": "code",
   "execution_count": 8,
   "metadata": {
    "collapsed": true
   },
   "outputs": [],
   "source": [
    "# push synonyms directly to firebase"
   ]
  },
  {
   "cell_type": "code",
   "execution_count": 9,
   "metadata": {
    "collapsed": false
   },
   "outputs": [
    {
     "name": "stdout",
     "output_type": "stream",
     "text": [
      "20\n",
      "40\n",
      "60\n",
      "80\n",
      "100\n",
      "120\n",
      "140\n",
      "160\n",
      "180\n",
      "200\n",
      "220\n",
      "240\n",
      "260\n",
      "280\n",
      "---\n",
      "error at key: Restschuldbefreiung\n",
      "---\n",
      "300\n",
      "320\n",
      "340\n",
      "360\n",
      "380\n",
      "400\n",
      "---\n",
      "error at key: Bescheinigung der Gestattung zur Erbringung vorübergehender grenzüberschreitender Dienstleistungen nach § 9 Absatz 1 Nummer 2 Handwerksordnung (HwO) im Bereich des zulassungspflichtigen Handwerks\n",
      "---\n",
      "---\n",
      "error at key: Kleinunternehmer\n",
      "---\n",
      "420\n",
      "440\n"
     ]
    }
   ],
   "source": [
    "n = 0\n",
    "# iterate over json\n",
    "for (key, data) in data_full.items():\n",
    "    \n",
    "    n += 1\n",
    "    # get synonyms\n",
    "    cleaned_key = clean_word(key)\n",
    "    \n",
    "    synonyms_list = []\n",
    "    \n",
    "    # get pos tags of key\n",
    "    topic_words = [(word.text, word.pos_) for word in nlp(cleaned_key)]\n",
    "    \n",
    "    if len(topic_words) > 1:\n",
    "        # composite topic\n",
    "        # check for nouns\n",
    "        for word, pos in topic_words:\n",
    "            if pos == 'NOUN':\n",
    "                stemmed_word = stemm_word(word)\n",
    "                synonyms_list.append(request_synonyms(word, stemmed_word, url))\n",
    "                time.sleep(3)\n",
    "            else:\n",
    "                # push word in list for cross product\n",
    "                synonyms_list.append([word])\n",
    "        \n",
    "        # get cross product with noun variations       \n",
    "        synonyms = create_synonyms(synonyms_list)\n",
    "    else:\n",
    "        # single word\n",
    "        # request synonyms\n",
    "        term = topic_words[0][0]\n",
    "        stemmed_term = stemm_word(term)\n",
    "        synonyms = request_synonyms(term, stemmed_term, url)\n",
    "        time.sleep(3)\n",
    "        \n",
    "    #print(synonyms)\n",
    "    synonyms = [x for x in synonyms if x != key]\n",
    "        \n",
    "    # push to firebase\n",
    "    f_url = '/synonyms/' + key\n",
    "    try:\n",
    "        firebase.put(f_url, 'synonyms', synonyms)\n",
    "    except:\n",
    "        print('---')\n",
    "        print('error at key:', key)\n",
    "        print('---')\n",
    "    \n",
    "    if n % 20 == 0:\n",
    "        print(n)"
   ]
  },
  {
   "cell_type": "code",
   "execution_count": null,
   "metadata": {
    "collapsed": true
   },
   "outputs": [],
   "source": []
  }
 ],
 "metadata": {
  "kernelspec": {
   "display_name": "Python 3",
   "language": "python",
   "name": "python3"
  },
  "language_info": {
   "codemirror_mode": {
    "name": "ipython",
    "version": 3
   },
   "file_extension": ".py",
   "mimetype": "text/x-python",
   "name": "python",
   "nbconvert_exporter": "python",
   "pygments_lexer": "ipython3",
   "version": "3.4.5"
  }
 },
 "nbformat": 4,
 "nbformat_minor": 1
}
